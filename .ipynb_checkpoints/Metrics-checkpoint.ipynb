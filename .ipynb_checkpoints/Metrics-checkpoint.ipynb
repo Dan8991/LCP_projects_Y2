{
 "cells": [
  {
   "cell_type": "markdown",
   "metadata": {},
   "source": [
    "# Delay Tolerant Networks\n",
    "\n",
    "### Description\n",
    "\n",
    "In several instances, network communications can occur with relevant delays, as for extra-terrestial communications or for supervised monitoring networks. In such network deciding which node can communicate with which other node and when is extremely complicated issue (a np-completed scheduling problem).\n",
    "\n",
    "### Assignments\n",
    "\n",
    "1. Generate a series of patterns of trasmissions on a network represented as a graph. In such graph the edges are weighted accordingly to the delay between transmittion and reception.\n",
    "2. Implement euristic algorithms to lower the potential of the network, i.e. aiming at minimizing the distance of the communications from their final destination.\n",
    "3. Find out the most efficient algorithm\n",
    "\n",
    "### Contacts\n",
    "Leonardo Badia <badia@dei.unipd.it>"
   ]
  },
  {
   "cell_type": "code",
   "execution_count": null,
   "metadata": {},
   "outputs": [],
   "source": [
    "import numpy as np"
   ]
  },
  {
   "cell_type": "code",
   "execution_count": 29,
   "metadata": {},
   "outputs": [],
   "source": [
    "def delay(scheduling,routing,n_pkts):\n",
    "\n",
    "    waiting = [wait for node in scheduling for wait in node]\n",
    "    routes = [path for node in routing for path in node]\n",
    "    \n",
    "    longest = 0\n",
    "    \n",
    "    for i in range(n_pkts):\n",
    "        path = routes[i]\n",
    "        \n",
    "        tleft = sum([T_tx + A[path[j],path[j+1]] for j in range(len(path)-1)])\n",
    "        t_tot = waiting[i] + tleft\n",
    "        longest = max(longest,t_tot)\n",
    "    \n",
    "    return longest"
   ]
  },
  {
   "cell_type": "code",
   "execution_count": 30,
   "metadata": {},
   "outputs": [
    {
     "name": "stdout",
     "output_type": "stream",
     "text": [
      "8.0\n"
     ]
    }
   ],
   "source": [
    "#TEST \n",
    "\n",
    "n_pkts = 3\n",
    "T_tx = 0.5\n",
    "A=np.zeros((3,3))\n",
    "A[0,1] = A[1,0] = 1\n",
    "A[1,2] = A[2,1] = 2\n",
    "A[2,2] = 3\n",
    "\n",
    "scheduling = [[2,4],[1],[]]\n",
    "routing = [[[0,2],[0,1,2]],[[1,2]],[]]\n",
    "\n",
    "delay = delay(scheduling,routing,n_pkts)\n",
    "print(delay)"
   ]
  },
  {
   "cell_type": "code",
   "execution_count": 31,
   "metadata": {},
   "outputs": [],
   "source": [
    "def deviations(optimal,routing,n_pkts):\n",
    "    dev = 0\n",
    "    for node in routing:\n",
    "        dev = dev + sum([1 for path in node if path != optimal[path[0]][path[-1]]])\n",
    "    return dev/n_pkts"
   ]
  },
  {
   "cell_type": "code",
   "execution_count": 32,
   "metadata": {},
   "outputs": [
    {
     "name": "stdout",
     "output_type": "stream",
     "text": [
      "0.3333333333333333\n"
     ]
    }
   ],
   "source": [
    "#TEST\n",
    "\n",
    "optimal = [[[0],[0,1],[0,2]],[[1,0],[1],[1,2]],[[2,0],[2,1],[2]]]\n",
    "dev = deviations(optimal,routing,3)\n",
    "print(dev)"
   ]
  },
  {
   "cell_type": "code",
   "execution_count": 33,
   "metadata": {},
   "outputs": [],
   "source": [
    "def throughput(n_pkts,delay):\n",
    "    return n_pkts/delay"
   ]
  },
  {
   "cell_type": "code",
   "execution_count": 35,
   "metadata": {},
   "outputs": [
    {
     "data": {
      "text/plain": [
       "0.375"
      ]
     },
     "execution_count": 35,
     "metadata": {},
     "output_type": "execute_result"
    }
   ],
   "source": [
    "#TEST\n",
    "throughput(n_pkts,delay)"
   ]
  },
  {
   "cell_type": "code",
   "execution_count": null,
   "metadata": {},
   "outputs": [],
   "source": []
  }
 ],
 "metadata": {
  "kernelspec": {
   "display_name": "Python 3",
   "language": "python",
   "name": "python3"
  },
  "language_info": {
   "codemirror_mode": {
    "name": "ipython",
    "version": 3
   },
   "file_extension": ".py",
   "mimetype": "text/x-python",
   "name": "python",
   "nbconvert_exporter": "python",
   "pygments_lexer": "ipython3",
   "version": "3.7.4"
  }
 },
 "nbformat": 4,
 "nbformat_minor": 2
}
