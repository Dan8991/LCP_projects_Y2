{
 "cells": [
  {
   "cell_type": "markdown",
   "metadata": {},
   "source": [
    "# Delay Tolerant Networks\n",
    "\n",
    "### Description\n",
    "\n",
    "In several instances, network communications can occur with relevant delays, as for extra-terrestial communications or for supervised monitoring networks. In such network deciding which node can communicate with which other node and when is extremely complicated issue (a np-completed scheduling problem).\n",
    "\n",
    "### Assignments\n",
    "\n",
    "1. Generate a series of patterns of trasmissions on a network represented as a graph. In such graph the edges are weighted accordingly to the delay between transmittion and reception.\n",
    "2. Implement euristic algorithms to lower the potential of the network, i.e. aiming at minimizing the distance of the communications from their final destination.\n",
    "3. Find out the most efficient algorithm\n",
    "\n",
    "### Contacts\n",
    "Leonardo Badia <badia@dei.unipd.it>"
   ]
  },
  {
   "cell_type": "code",
   "execution_count": 1,
   "metadata": {},
   "outputs": [],
   "source": [
    "import numpy as np\n",
    "import matplotlib.pyplot as plt\n",
    "from mpl_toolkits.mplot3d import Axes3D\n",
    "import math\n",
    "\n",
    "n = 4\n",
    "c = 3e8\n",
    "T_tx = 10  # da regolare\n",
    "r_max = 60e9  # Marte"
   ]
  },
  {
   "cell_type": "code",
   "execution_count": 2,
   "metadata": {},
   "outputs": [],
   "source": [
    "### Generates a random network of n nodes (the first one corresponds to earth)\n",
    "### r = max distance\n",
    "\n",
    "def generate_network(n,r_max,seed=100,polar = False):\n",
    "    \n",
    "    np.random.seed(seed)\n",
    "    \n",
    "    r = np.random.rand(n,1)*r_max\n",
    "    r[0] = 0 #Earth\n",
    "    theta = np.random.rand(n,1)*4*np.pi - 2*np.pi\n",
    "    phi = np.random.rand(n,1)*4*np.pi - 2*np.pi\n",
    "    \n",
    "    if polar==True:\n",
    "        return np.hstack((r,theta,phi))  #polar coordinates\n",
    "    \n",
    "    x = r * np.cos(theta) * np.sin(phi)\n",
    "    y = r * np.sin(theta) * np.sin(phi)\n",
    "    z = r * np.cos(phi)\n",
    "    \n",
    "    return np.hstack((x,y,z))   #cartesian coordinates"
   ]
  },
  {
   "cell_type": "code",
   "execution_count": 3,
   "metadata": {},
   "outputs": [],
   "source": [
    "### Creates the weighted adjacency matrix of the network\n",
    "### Entries represent propagation times between nodes\n",
    "\n",
    "def adjacency_matrix(nodes):\n",
    "    \n",
    "    n1 = nodes[:, np.newaxis, :]\n",
    "    n2 = nodes[np.newaxis, :, :]\n",
    "    \n",
    "    A = np.linalg.norm(n1-n2, axis = 2)/c\n",
    "    \n",
    "    return A"
   ]
  },
  {
   "cell_type": "code",
   "execution_count": 4,
   "metadata": {},
   "outputs": [
    {
     "name": "stdout",
     "output_type": "stream",
     "text": [
      "(4, 3)\n",
      "(4, 4)\n"
     ]
    }
   ],
   "source": [
    "nodes = generate_network(n,r_max,polar=True)\n",
    "A = adjacency_matrix(nodes)\n",
    "\n",
    "#test\n",
    "print(nodes.shape)\n",
    "print(A.shape)"
   ]
  },
  {
   "cell_type": "code",
   "execution_count": 5,
   "metadata": {},
   "outputs": [],
   "source": [
    "#used to check if the time exceeds the maximum time of the system\n",
    "def check_time_step(A, time):\n",
    "    \n",
    "    max_time_step = A.shape[2]\n",
    "    \n",
    "    if time >= max_time_step:\n",
    "        raise Exception(\"Maximum time limit exceded\")\n",
    "\n",
    "# used to check if the link becomes unavailable before the packet is fully transmitted\n",
    "#weigths = time series of the weight of the considered link\n",
    "#start = starting time\n",
    "#end = ending time\n",
    "def check_interval(weights, start, end):\n",
    "    \n",
    "    return np.sum(weights[start:end] == np.inf) == 0 \n",
    "\n",
    "#finds the next useful interval to send the packet if the link is down\n",
    "#current_time = earlyest time when the packet can be sent\n",
    "#delta_time = time interval \n",
    "#e2e = end to end delay\n",
    "#distances = weights of the edge during time\n",
    "def find_next_interval(current_time, delta_time, e2e, distances):\n",
    "    \n",
    "    current_delta = math.floor(current_time / delta_time)\n",
    "    #the last timeslot has to be considered as well so ceil is needed\n",
    "    ending_delta = math.ceil((current_time+e2e) / delta_time)\n",
    "    \n",
    "    #if we already have a good interval then the packet can be sent immediatly\n",
    "    if check_interval(distances, current_delta, ending_delta):\n",
    "        return current_time\n",
    "    #otherwise iterate until a good interval is found\n",
    "    else:\n",
    "        #time of the first np.inf after current_time\n",
    "        i = current_delta + np.argmin(distances[current_delta:ending_delta] != np.inf)\n",
    "        \n",
    "        #number of timesteps required to send a packet\n",
    "        delta_e2e = np.ceil(e2e / delta_time)\n",
    "        \n",
    "        #keep increasing i while either the max length is reached or a good interval is found\n",
    "        while i + delta_e2e < distances.shape[0] and not check_interval(distances, i, i + delta_e2e):\n",
    "            i += 1\n",
    "        \n",
    "        return i * delta_time\n",
    "\n",
    "#used to find the next node and the arrival times\n",
    "def find_next(starting_node, previous, times, earth=0):\n",
    "    \n",
    "    result = -1\n",
    "    current = earth\n",
    "    \n",
    "    while current != starting_node:\n",
    "        result = current\n",
    "        current = int(previous[current])\n",
    "    \n",
    "    return result, times[result]\n",
    "       \n",
    "#performs a modified version of the dijkstra algorithm that adapts to this specific problem\n",
    "#A = adjacency matrix\n",
    "#starting_node = node sending the packet\n",
    "#ttr = transmission time\n",
    "#delta_time = timestep dimension\n",
    "#earth = earth node\n",
    "def DTN_dijkstra(A, starting_node, starting_time, ttr, delta_time, earth = 0):\n",
    "    \n",
    "    N = A.shape[0]\n",
    "    \n",
    "    #setting the arrival time of the packet to each node to infinity\n",
    "    distances = np.ones(N) * np.inf\n",
    "    distances[starting_node] = starting_time\n",
    "    \n",
    "    current = starting_node\n",
    "    visited_nodes = 0\n",
    "    \n",
    "    #previous step in the shortest path\n",
    "    previous = np.ones(N)*(-1)\n",
    "    \n",
    "    #keep going until the shortest path to earth is found\n",
    "    while current != earth:\n",
    "        \n",
    "        #arrival time of the packet in the current node\n",
    "        current_time = distances[current]\n",
    "        #time slot of the packet arrival\n",
    "        current_step = math.floor(current_time / delta_time)\n",
    "        \n",
    "        #checking if the packet arrives after the maximum time\n",
    "        check_time_step(A, current_step)\n",
    "        \n",
    "        #arrival times to each node if the message started from current node\n",
    "        new_dists = np.zeros(N)\n",
    "        \n",
    "        #compute the arrival time to each node\n",
    "        for i in range(N):\n",
    "            \n",
    "            #computing e2e delay as tp + ttr\n",
    "            tp = np.min(A[current, i, :])\n",
    "            \n",
    "            if tp == np.inf:\n",
    "                new_dists[i] = np.inf\n",
    "            else:\n",
    "                e2e = np.min(A[current, i, :]) + ttr\n",
    "            \n",
    "                #finding out when the packet can leave the current node to reach the next one\n",
    "                next_good = find_next_interval(current_time, delta_time, e2e, A[current, i, :])\n",
    "            \n",
    "                #finding out the arrival time of the packet to node i after passing from current\n",
    "                new_dists[i] = next_good + e2e\n",
    "        \n",
    "        new_dists[current] = current_time\n",
    "        \n",
    "        #if the arrival time is improved then the previous node is changed\n",
    "        previous[distances > new_dists] = current\n",
    "        \n",
    "        #setting the correct arrival time to each node\n",
    "        distances = np.minimum(distances, new_dists)\n",
    "        \n",
    "        visited_nodes += 1\n",
    "        sorting_indexes = np.argsort(distances)\n",
    "        \n",
    "        current = sorting_indexes[visited_nodes]\n",
    "    \n",
    "    return find_next(starting_node, previous, distances)"
   ]
  },
  {
   "cell_type": "code",
   "execution_count": 6,
   "metadata": {},
   "outputs": [],
   "source": [
    "def add_temporal_dim(A,n_updates):\n",
    "    \n",
    "    At = np.broadcast_to(A.reshape((n,n,1)),(n,n,n_updates))\n",
    "    ### At = ???(At) ##rimuovere link disattivati\n",
    "    return At"
   ]
  },
  {
   "cell_type": "code",
   "execution_count": 7,
   "metadata": {},
   "outputs": [
    {
     "name": "stdout",
     "output_type": "stream",
     "text": [
      "Next Node = 2, arrival time = 39.22964113106739\n",
      "tp = 29.22964113106739\n"
     ]
    }
   ],
   "source": [
    "starting_node = 1\n",
    "A[0, starting_node] = np.inf\n",
    "A[starting_node, 0] = np.inf\n",
    "starting_time = 0\n",
    "ttr = 10\n",
    "delta_time = 5\n",
    "At = add_temporal_dim(A, 2000)\n",
    "\n",
    "next_node, arrival_time = DTN_dijkstra(At, starting_node, starting_time, ttr, delta_time)\n",
    "\n",
    "print(f\"Next Node = {next_node}, arrival time = {arrival_time}\")\n",
    "print(f\"tp = {At[starting_node, next_node, 0]}\")"
   ]
  },
  {
   "cell_type": "code",
   "execution_count": 8,
   "metadata": {},
   "outputs": [
    {
     "name": "stdout",
     "output_type": "stream",
     "text": [
      "[[  0.                  inf  84.90351815 168.95522646]\n",
      " [         inf   0.          29.22964113 113.28134945]\n",
      " [ 84.90351815  29.22964113   0.          84.05170831]\n",
      " [168.95522646 113.28134945  84.05170831   0.        ]]\n"
     ]
    }
   ],
   "source": [
    "print(A)"
   ]
  },
  {
   "cell_type": "code",
   "execution_count": 9,
   "metadata": {},
   "outputs": [],
   "source": [
    "def plot_network(nodes):\n",
    "    \n",
    "    fig = plt.figure()\n",
    "    ax = Axes3D(fig)\n",
    "    ax.scatter(nodes[1:,0],nodes[1:,1],nodes[1:,2])\n",
    "    ax.scatter(nodes[0,0],nodes[0,1],nodes[0,2],color=\"red\",s=100)   #Earth\n",
    "    plt.show()"
   ]
  },
  {
   "cell_type": "code",
   "execution_count": 10,
   "metadata": {},
   "outputs": [
    {
     "data": {
      "image/png": "[encoded data removed]",
      "text/plain": [
       "<Figure size 432x288 with 1 Axes>"
      ]
     },
     "metadata": {
      "needs_background": "light"
     },
     "output_type": "display_data"
    }
   ],
   "source": [
    "plot_network(nodes)"
   ]
  },
  {
   "cell_type": "code",
   "execution_count": 11,
   "metadata": {},
   "outputs": [
    {
     "name": "stdout",
     "output_type": "stream",
     "text": [
      "(4, 4, 40)\n"
     ]
    }
   ],
   "source": [
    "At = add_temporal_dim(A,40)\n",
    "\n",
    "#test\n",
    "print(At.shape)"
   ]
  }
 ],
 "metadata": {
  "kernelspec": {
   "display_name": "Python 3",
   "language": "python",
   "name": "python3"
  },
  "language_info": {
   "codemirror_mode": {
    "name": "ipython",
    "version": 3
   },
   "file_extension": ".py",
   "mimetype": "text/x-python",
   "name": "python",
   "nbconvert_exporter": "python",
   "pygments_lexer": "ipython3",
   "version": "3.7.5"
  }
 },
 "nbformat": 4,
 "nbformat_minor": 2
}
